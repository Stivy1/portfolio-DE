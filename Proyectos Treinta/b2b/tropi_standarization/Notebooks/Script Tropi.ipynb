{
 "cells": [
  {
   "cell_type": "code",
   "execution_count": null,
   "id": "b6d2785c",
   "metadata": {},
   "outputs": [
    {
     "ename": "",
     "evalue": "",
     "output_type": "error",
     "traceback": [
      "\u001b[1;31mRunning cells with 'Python 3.8.10 ('.venv': poetry)' requires ipykernel package.\n",
      "Run the following command to install 'ipykernel' into the Python environment. \n",
      "Command: '/home/stivy/treinta-data-projects/b2b/tropi_standarization/.venv/bin/python3 -m pip install ipykernel -U --force-reinstall'"
     ]
    }
   ],
   "source": [
    "from pydantic import BaseSettings\n",
    "\n",
    "class Settings(BaseSettings):\n",
    "\n",
    "    TYPE: str\n",
    "    PROJECT_ID: str\n",
    "    PRIVATE_KEY_ID: str\n",
    "    PRIVATE_KEY: str\n",
    "    CLIENT_EMAIL: str\n",
    "    CLIENT_ID: str\n",
    "    AUTH_URI: str\n",
    "    TOKEN_URI: str\n",
    "    AUTH_PROVIDER: str \n",
    "    CLIENT_URL: str\n",
    "    \n",
    "    class Config:\n",
    "        env_file = \"../.env\"\n",
    " \n",
    "settings = Settings()\n"
   ]
  }
 ],
 "metadata": {
  "kernelspec": {
   "display_name": "Python 3.8.10 ('.venv': poetry)",
   "language": "python",
   "name": "python3"
  },
  "language_info": {
   "codemirror_mode": {
    "name": "ipython",
    "version": 3
   },
   "file_extension": ".py",
   "mimetype": "text/x-python",
   "name": "python",
   "nbconvert_exporter": "python",
   "pygments_lexer": "ipython3",
   "version": "3.8.10"
  },
  "vscode": {
   "interpreter": {
    "hash": "2af3d7c6480353766041c1400b918023522be24f18825362eecbce98308ace10"
   }
  }
 },
 "nbformat": 4,
 "nbformat_minor": 5
}
